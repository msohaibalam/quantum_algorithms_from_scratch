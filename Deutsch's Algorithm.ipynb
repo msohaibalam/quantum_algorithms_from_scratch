{
 "cells": [
  {
   "cell_type": "code",
   "execution_count": 1,
   "metadata": {
    "collapsed": true
   },
   "outputs": [],
   "source": [
    "from pyquil.quil import Program\n",
    "import pyquil.api as api\n",
    "from pyquil.gates import *\n",
    "import numpy as np"
   ]
  },
  {
   "cell_type": "markdown",
   "metadata": {},
   "source": [
    "(a) f(0) = 0 ; f(1) = 0 <br>\n",
    "(b) f(0) = 1 ; f(1) = 1 <br>\n",
    "(c) f(0) = 0 ; f(1) = 1 <br>\n",
    "(d) f(0) = 1 ; f(1) = 0"
   ]
  },
  {
   "cell_type": "code",
   "execution_count": 15,
   "metadata": {},
   "outputs": [
    {
     "name": "stdout",
     "output_type": "stream",
     "text": [
      "(-0.7071067812+0j)|10> + (0.7071067812+0j)|11>\n",
      "{'00': 0.0, '01': 0.0, '10': 0.49999999999999978, '11': 0.49999999999999978}\n"
     ]
    }
   ],
   "source": [
    "p = Program()\n",
    "\n",
    "# Define U_f for each of (a), (b), (c) and (d)\n",
    "p.defgate(\"U_f_a\", np.array([[1, 0, 0, 0], [0, 1, 0, 0], [0, 0, 1, 0], [0, 0, 0, 1]]))\n",
    "p.defgate(\"U_f_b\", np.array([[0, 1, 0, 0], [1, 0, 0, 0], [0, 0, 0, 1], [0, 0, 1, 0]]))\n",
    "p.defgate(\"U_f_c\", np.array([[1, 0, 0, 0], [0, 1, 0, 0], [0, 0, 0, 1], [0, 0, 1, 0]]))\n",
    "p.defgate(\"U_f_d\", np.array([[0, 1, 0, 0], [1, 0, 0, 0], [0, 0, 1, 0], [0, 0, 0, 1]]))\n",
    "\n",
    "# Prepare the starting state |0> x (1/sqrt[2]) *  (|0> - |1>)\n",
    "p.inst(I(1))\n",
    "p.inst(X(0))\n",
    "p.inst(H(0))\n",
    "\n",
    "# Apply H\n",
    "p.inst(H(1))\n",
    "\n",
    "# Apply U_f\n",
    "p.inst((\"U_f_d\", 1, 0))\n",
    "\n",
    "# Apply final H gate\n",
    "p.inst(H(1))\n",
    "\n",
    "quantum_simulator = api.QVMConnection()\n",
    "wavefunc = quantum_simulator.wavefunction(p)\n",
    "print (wavefunc)\n",
    "print (wavefunc.get_outcome_probs())"
   ]
  }
 ],
 "metadata": {
  "kernelspec": {
   "display_name": "Python 3",
   "language": "python",
   "name": "python3"
  },
  "language_info": {
   "codemirror_mode": {
    "name": "ipython",
    "version": 3
   },
   "file_extension": ".py",
   "mimetype": "text/x-python",
   "name": "python",
   "nbconvert_exporter": "python",
   "pygments_lexer": "ipython3",
   "version": "3.6.1"
  }
 },
 "nbformat": 4,
 "nbformat_minor": 2
}
