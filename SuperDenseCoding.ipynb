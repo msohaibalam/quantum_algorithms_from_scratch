{
 "cells": [
  {
   "cell_type": "code",
   "execution_count": 1,
   "metadata": {
    "collapsed": true
   },
   "outputs": [],
   "source": [
    "from pyquil.quil import Program\n",
    "import pyquil.api as api\n",
    "from pyquil.gates import *\n",
    "import numpy as np"
   ]
  },
  {
   "cell_type": "code",
   "execution_count": 2,
   "metadata": {
    "collapsed": true
   },
   "outputs": [],
   "source": [
    "# a, b = 0, 0\n",
    "# a, b = 0, 1\n",
    "a, b = 1, 0\n",
    "# a, b = 1, 1"
   ]
  },
  {
   "cell_type": "code",
   "execution_count": 3,
   "metadata": {
    "collapsed": true
   },
   "outputs": [],
   "source": [
    "def alice_op(a_, b_, prog):\n",
    "    if b_ == 1:\n",
    "        p.inst(X(1))\n",
    "    else:\n",
    "        pass\n",
    "    if a_ == 1:\n",
    "        p.inst(Z(1))\n",
    "    else:\n",
    "        pass"
   ]
  },
  {
   "cell_type": "code",
   "execution_count": 4,
   "metadata": {},
   "outputs": [
    {
     "data": {
      "text/plain": [
       "<pyquil.quil.Program at 0x1094c6b00>"
      ]
     },
     "execution_count": 4,
     "metadata": {},
     "output_type": "execute_result"
    }
   ],
   "source": [
    "p = Program()\n",
    "\n",
    "# create a Bell state first\n",
    "\n",
    "p.inst(H(1))\n",
    "p.inst(CNOT(1, 0))"
   ]
  },
  {
   "cell_type": "code",
   "execution_count": 5,
   "metadata": {},
   "outputs": [],
   "source": [
    "# Alice applies her operation Z^a. X^b\n",
    "\n",
    "alice_op(a, b, p)"
   ]
  },
  {
   "cell_type": "code",
   "execution_count": 6,
   "metadata": {},
   "outputs": [
    {
     "name": "stdout",
     "output_type": "stream",
     "text": [
      "a is:  1\n",
      "b is:  0\n"
     ]
    }
   ],
   "source": [
    "# Bob measure in Bell basis\n",
    "p.inst(CNOT(1, 0))\n",
    "p.inst(H(1))\n",
    "\n",
    "quantum_simulator = api.QVMConnection()\n",
    "wavefunc = quantum_simulator.wavefunction(p)\n",
    "# wavefunc.get_outcome_probs()\n",
    "for k, v in wavefunc.get_outcome_probs().items():\n",
    "    if (np.isclose(v, 1.)):\n",
    "        print (\"a is: \", k[0])\n",
    "        print (\"b is: \", k[1])"
   ]
  },
  {
   "cell_type": "code",
   "execution_count": null,
   "metadata": {
    "collapsed": true
   },
   "outputs": [],
   "source": []
  }
 ],
 "metadata": {
  "kernelspec": {
   "display_name": "Python 3",
   "language": "python",
   "name": "python3"
  },
  "language_info": {
   "codemirror_mode": {
    "name": "ipython",
    "version": 3
   },
   "file_extension": ".py",
   "mimetype": "text/x-python",
   "name": "python",
   "nbconvert_exporter": "python",
   "pygments_lexer": "ipython3",
   "version": "3.6.1"
  }
 },
 "nbformat": 4,
 "nbformat_minor": 2
}
