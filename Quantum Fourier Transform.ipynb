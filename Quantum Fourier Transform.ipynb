{
 "cells": [
  {
   "cell_type": "code",
   "execution_count": 1,
   "metadata": {},
   "outputs": [],
   "source": [
    "from pyquil.quil import Program\n",
    "from pyquil.gates import *\n",
    "import pyquil.api as api\n",
    "import numpy as np"
   ]
  },
  {
   "cell_type": "code",
   "execution_count": 2,
   "metadata": {},
   "outputs": [],
   "source": [
    "def phase_rotation(phi):\n",
    "    '''\n",
    "    Single-qubit phase rotation gate, parametrized by angle phi\n",
    "    \n",
    "    :param float phi: angle of phase rotation\n",
    "    :return numpy.array: single-qubit gate representing phase rotation\n",
    "    '''\n",
    "    return np.array([[1, 0], [0, np.exp(1j*phi)]])\n",
    "\n",
    "def controlled_phase_rotation(phi):\n",
    "    '''\n",
    "    Two-qubit controlled phase rotation gate, parametrized by angle phi\n",
    "    \n",
    "    :param float phi: angle of phase rotation\n",
    "    :return numpy.array: two-qubit controlled phase rotation gate\n",
    "    '''\n",
    "    R_phi = phase_rotation(phi)\n",
    "    proj_00 = np.array([[1, 0], [0, 0]])  # projection operator |0><0|\n",
    "    proj_11 = np.array([[0, 0], [0, 1]])  # projection operator |1><1|\n",
    "    # controlled phase shift of e^(i*phi) is symmetric with respect to swapping the control and target bits,\n",
    "    # so can do in any order; here we'll keep the control qubits to the left\n",
    "    return np.kron(proj_00, np.eye(2)) + np.kron(proj_11, R_phi)\n",
    "\n",
    "def R_k(k):\n",
    "    '''\n",
    "    Controlled phase rotation, such that i*phi = (2*pi*i) / (2^k)\n",
    "    \n",
    "    :param int k: exponent of 2 in the denominator of the expression (2*pi*i) / (2^k)\n",
    "    :return numpy.array: two-qubit controlled phase rotation gate, characterized by the integer k\n",
    "    '''\n",
    "    return controlled_phase_rotation((2*np.pi)/(2**k))"
   ]
  },
  {
   "cell_type": "code",
   "execution_count": 3,
   "metadata": {},
   "outputs": [],
   "source": [
    "def state_prep(list_qubits, prog):\n",
    "    '''\n",
    "    Prepare the state corresponding to list of qubits, e.g. [1, 1, 0] -> |110>\n",
    "    \n",
    "    :param list list_qubits: list of qubits whose state is to be prepared\n",
    "    :return Program: Program preparing the required qubit state\n",
    "    '''\n",
    "    n = len(list_qubits)\n",
    "    for i, x in enumerate(list_qubits):\n",
    "        q = n - 1 - i\n",
    "        if x == 0:\n",
    "            prog.inst(I(q))\n",
    "        elif x == 1:\n",
    "            prog.inst(X(q))\n",
    "        else:\n",
    "            raise ValueError(\"Input must consts of (integers) 0s and 1s\")\n",
    "\n",
    "def define_gates(n, prog):\n",
    "    '''\n",
    "    Define all the gates needed for an n-qubit QFT\n",
    "    \n",
    "    :param int n: number of qubits\n",
    "    :param Program prog: Program\n",
    "    '''\n",
    "    for i in range(2, n+1):\n",
    "        prog.defgate(\"R_\" + str(i), R_k(i))\n",
    "\n",
    "def qft(n, prog):\n",
    "    '''\n",
    "    Computes the Quantum Fourier Transform of an n-qubit state\n",
    "\n",
    "    :param int n: number of qubits\n",
    "    :return Program: Modified Program that would carry out quantum fourier transform of the input n-qubit state\n",
    "    '''\n",
    "    # define all the gates\n",
    "    define_gates(n, prog)\n",
    "    # create QFT circuit\n",
    "    q = n - 1\n",
    "    while q >= 0:\n",
    "        # apply Hadamard\n",
    "        prog.inst(H(q))\n",
    "        for i in range(2, q+2):\n",
    "#             # apply controlled phase rotations\n",
    "#             print (\"R_\" + str(i))\n",
    "#             print (tuple([q-i+1, q]))\n",
    "#             print (\"*\" * 30)\n",
    "            prog.inst((\"R_\" + str(i),) + tuple([q-i+1, q]))\n",
    "        # decrement qubit index\n",
    "        q -= 1\n",
    "    # SWAP the order of qubits\n",
    "    for j in range(n//2):\n",
    "        prog.inst(SWAP(j, n-1-j))"
   ]
  },
  {
   "cell_type": "code",
   "execution_count": 4,
   "metadata": {},
   "outputs": [
    {
     "ename": "ValueError",
     "evalue": "The wavefunction is not normalized. The probabilities sum to 0.4999999999999998 instead of 1",
     "output_type": "error",
     "traceback": [
      "\u001b[0;31m---------------------------------------------------------------------------\u001b[0m",
      "\u001b[0;31mValueError\u001b[0m                                Traceback (most recent call last)",
      "\u001b[0;32m<ipython-input-4-cd83382d4c79>\u001b[0m in \u001b[0;36m<module>\u001b[0;34m()\u001b[0m\n\u001b[1;32m      9\u001b[0m \u001b[0;34m\u001b[0m\u001b[0m\n\u001b[1;32m     10\u001b[0m \u001b[0;31m# obtain wavefunction\u001b[0m\u001b[0;34m\u001b[0m\u001b[0;34m\u001b[0m\u001b[0m\n\u001b[0;32m---> 11\u001b[0;31m \u001b[0mwavefunc\u001b[0m \u001b[0;34m=\u001b[0m \u001b[0mqvm\u001b[0m\u001b[0;34m.\u001b[0m\u001b[0mwavefunction\u001b[0m\u001b[0;34m(\u001b[0m\u001b[0mp\u001b[0m\u001b[0;34m)\u001b[0m\u001b[0;34m\u001b[0m\u001b[0m\n\u001b[0m\u001b[1;32m     12\u001b[0m \u001b[0mprint\u001b[0m \u001b[0;34m(\u001b[0m\u001b[0mwavefunc\u001b[0m\u001b[0;34m.\u001b[0m\u001b[0mamplitudes\u001b[0m\u001b[0;34m)\u001b[0m\u001b[0;34m\u001b[0m\u001b[0m\n",
      "\u001b[0;32m~/anaconda3/lib/python3.6/site-packages/pyquil/api/qvm.py\u001b[0m in \u001b[0;36mwavefunction\u001b[0;34m(self, quil_program, classical_addresses, needs_compilation, isa)\u001b[0m\n\u001b[1;32m    268\u001b[0m             \u001b[0mpayload\u001b[0m \u001b[0;34m=\u001b[0m \u001b[0mself\u001b[0m\u001b[0;34m.\u001b[0m\u001b[0m_wavefunction_payload\u001b[0m\u001b[0;34m(\u001b[0m\u001b[0mquil_program\u001b[0m\u001b[0;34m,\u001b[0m \u001b[0mclassical_addresses\u001b[0m\u001b[0;34m,\u001b[0m \u001b[0mneeds_compilation\u001b[0m\u001b[0;34m,\u001b[0m \u001b[0misa\u001b[0m\u001b[0;34m)\u001b[0m\u001b[0;34m\u001b[0m\u001b[0m\n\u001b[1;32m    269\u001b[0m             \u001b[0mresponse\u001b[0m \u001b[0;34m=\u001b[0m \u001b[0mpost_json\u001b[0m\u001b[0;34m(\u001b[0m\u001b[0mself\u001b[0m\u001b[0;34m.\u001b[0m\u001b[0msession\u001b[0m\u001b[0;34m,\u001b[0m \u001b[0mself\u001b[0m\u001b[0;34m.\u001b[0m\u001b[0msync_endpoint\u001b[0m \u001b[0;34m+\u001b[0m \u001b[0;34m\"/qvm\"\u001b[0m\u001b[0;34m,\u001b[0m \u001b[0mpayload\u001b[0m\u001b[0;34m)\u001b[0m\u001b[0;34m\u001b[0m\u001b[0m\n\u001b[0;32m--> 270\u001b[0;31m             \u001b[0;32mreturn\u001b[0m \u001b[0mWavefunction\u001b[0m\u001b[0;34m.\u001b[0m\u001b[0mfrom_bit_packed_string\u001b[0m\u001b[0;34m(\u001b[0m\u001b[0mresponse\u001b[0m\u001b[0;34m.\u001b[0m\u001b[0mcontent\u001b[0m\u001b[0;34m,\u001b[0m \u001b[0mclassical_addresses\u001b[0m\u001b[0;34m)\u001b[0m\u001b[0;34m\u001b[0m\u001b[0m\n\u001b[0m\u001b[1;32m    271\u001b[0m \u001b[0;34m\u001b[0m\u001b[0m\n\u001b[1;32m    272\u001b[0m     \u001b[0;32mdef\u001b[0m \u001b[0mwavefunction_async\u001b[0m\u001b[0;34m(\u001b[0m\u001b[0mself\u001b[0m\u001b[0;34m,\u001b[0m \u001b[0mquil_program\u001b[0m\u001b[0;34m,\u001b[0m \u001b[0mclassical_addresses\u001b[0m\u001b[0;34m=\u001b[0m\u001b[0;32mNone\u001b[0m\u001b[0;34m,\u001b[0m \u001b[0mneeds_compilation\u001b[0m\u001b[0;34m=\u001b[0m\u001b[0;32mFalse\u001b[0m\u001b[0;34m,\u001b[0m \u001b[0misa\u001b[0m\u001b[0;34m=\u001b[0m\u001b[0;32mNone\u001b[0m\u001b[0;34m)\u001b[0m\u001b[0;34m:\u001b[0m\u001b[0;34m\u001b[0m\u001b[0m\n",
      "\u001b[0;32m~/anaconda3/lib/python3.6/site-packages/pyquil/wavefunction.py\u001b[0m in \u001b[0;36mfrom_bit_packed_string\u001b[0;34m(coef_string, classical_addresses)\u001b[0m\n\u001b[1;32m     91\u001b[0m             \u001b[0mwf\u001b[0m\u001b[0;34m[\u001b[0m\u001b[0mi\u001b[0m\u001b[0;34m]\u001b[0m \u001b[0;34m=\u001b[0m \u001b[0mcomplex\u001b[0m\u001b[0;34m(\u001b[0m\u001b[0mre\u001b[0m\u001b[0;34m,\u001b[0m \u001b[0mim\u001b[0m\u001b[0;34m)\u001b[0m\u001b[0;34m\u001b[0m\u001b[0m\n\u001b[1;32m     92\u001b[0m \u001b[0;34m\u001b[0m\u001b[0m\n\u001b[0;32m---> 93\u001b[0;31m         \u001b[0;32mreturn\u001b[0m \u001b[0mWavefunction\u001b[0m\u001b[0;34m(\u001b[0m\u001b[0mwf\u001b[0m\u001b[0;34m,\u001b[0m \u001b[0mmem\u001b[0m\u001b[0;34m)\u001b[0m\u001b[0;34m\u001b[0m\u001b[0m\n\u001b[0m\u001b[1;32m     94\u001b[0m \u001b[0;34m\u001b[0m\u001b[0m\n\u001b[1;32m     95\u001b[0m     \u001b[0;32mdef\u001b[0m \u001b[0m__len__\u001b[0m\u001b[0;34m(\u001b[0m\u001b[0mself\u001b[0m\u001b[0;34m)\u001b[0m\u001b[0;34m:\u001b[0m\u001b[0;34m\u001b[0m\u001b[0m\n",
      "\u001b[0;32m~/anaconda3/lib/python3.6/site-packages/pyquil/wavefunction.py\u001b[0m in \u001b[0;36m__init__\u001b[0;34m(self, amplitude_vector, classical_memory)\u001b[0m\n\u001b[1;32m     39\u001b[0m         \u001b[0;32mif\u001b[0m \u001b[0;32mnot\u001b[0m \u001b[0mnp\u001b[0m\u001b[0;34m.\u001b[0m\u001b[0misclose\u001b[0m\u001b[0;34m(\u001b[0m\u001b[0msumprob\u001b[0m\u001b[0;34m,\u001b[0m \u001b[0;36m1.0\u001b[0m\u001b[0;34m)\u001b[0m\u001b[0;34m:\u001b[0m\u001b[0;34m\u001b[0m\u001b[0m\n\u001b[1;32m     40\u001b[0m             raise ValueError(\"The wavefunction is not normalized. \"\n\u001b[0;32m---> 41\u001b[0;31m                              \"The probabilities sum to {} instead of 1\".format(sumprob))\n\u001b[0m\u001b[1;32m     42\u001b[0m \u001b[0;34m\u001b[0m\u001b[0m\n\u001b[1;32m     43\u001b[0m         \u001b[0mself\u001b[0m\u001b[0;34m.\u001b[0m\u001b[0mclassical_memory\u001b[0m \u001b[0;34m=\u001b[0m \u001b[0mclassical_memory\u001b[0m\u001b[0;34m\u001b[0m\u001b[0m\n",
      "\u001b[0;31mValueError\u001b[0m: The wavefunction is not normalized. The probabilities sum to 0.4999999999999998 instead of 1"
     ]
    }
   ],
   "source": [
    "qvm = api.QVMConnection()\n",
    "\n",
    "# provide list of qubits\n",
    "list_qubs = [0, 0, 1]\n",
    "# prepare Program\n",
    "p = Program()\n",
    "state_prep(list_qubs, p)\n",
    "qft(len(list_qubs), p)\n",
    "\n",
    "# obtain wavefunction\n",
    "wavefunc = qvm.wavefunction(p)\n",
    "print (wavefunc.amplitudes)"
   ]
  },
  {
   "cell_type": "code",
   "execution_count": 5,
   "metadata": {},
   "outputs": [
    {
     "name": "stdout",
     "output_type": "stream",
     "text": [
      "DEFGATE R_2:\n",
      "    1.0, 0.0, 0.0, 0.0\n",
      "    0.0, 1.0, 0.0, 0.0\n",
      "    0.0, 0.0, 1.0, 0.0\n",
      "    0.0, 0.0, 0.0, 6.123233995736766e-17i\n",
      "\n",
      "DEFGATE R_3:\n",
      "    1.0, 0.0, 0.0, 0.0\n",
      "    0.0, 1.0, 0.0, 0.0\n",
      "    0.0, 0.0, 1.0, 0.0\n",
      "    0.0, 0.0, 0.0, 0.7071067811865476+0.7071067811865475i\n",
      "\n",
      "I 2\n",
      "I 1\n",
      "X 0\n",
      "H 2\n",
      "R_2 1 2\n",
      "R_3 0 2\n",
      "H 1\n",
      "R_2 0 1\n",
      "H 0\n",
      "SWAP 0 2\n",
      "\n"
     ]
    }
   ],
   "source": [
    "# print (wavefunc)\n",
    "print (p)"
   ]
  },
  {
   "cell_type": "code",
   "execution_count": 51,
   "metadata": {},
   "outputs": [
    {
     "name": "stdout",
     "output_type": "stream",
     "text": [
      "DEFGATE R2:\n",
      "    1.0, 0.0, 0.0, 0.0\n",
      "    0.0, 1.0, 0.0, 0.0\n",
      "    0.0, 0.0, 1.0, 0.0\n",
      "    0.0, 0.0, 0.0, 6.123233995736766e-17i\n",
      "\n",
      "DEFGATE R3:\n",
      "    1.0, 0.0, 0.0, 0.0\n",
      "    0.0, 1.0, 0.0, 0.0\n",
      "    0.0, 0.0, 1.0, 0.0\n",
      "    0.0, 0.0, 0.0, 0.7071067811865476+0.7071067811865475i\n",
      "\n",
      "DEFGATE R2_2:\n",
      "    1.0, 0.0, 0.0, 0.0\n",
      "    0.0, 1.0, 0.0, 0.0\n",
      "    0.0, 0.0, 1.0, 0.0\n",
      "    0.0, 0.0, 0.0, 6.123233995736766e-17i\n",
      "\n",
      "I 2\n",
      "I 1\n",
      "X 0\n",
      "H 2\n",
      "R2 2 1\n",
      "R3 2 0\n",
      "H 1\n",
      "R2_2 1 0\n",
      "\n"
     ]
    },
    {
     "ename": "ValueError",
     "evalue": "The wavefunction is not normalized. The probabilities sum to 0.4999999999999998 instead of 1",
     "output_type": "error",
     "traceback": [
      "\u001b[0;31m---------------------------------------------------------------------------\u001b[0m",
      "\u001b[0;31mValueError\u001b[0m                                Traceback (most recent call last)",
      "\u001b[0;32m<ipython-input-51-0f7df1df131b>\u001b[0m in \u001b[0;36m<module>\u001b[0;34m()\u001b[0m\n\u001b[1;32m     37\u001b[0m \u001b[0mprint\u001b[0m \u001b[0;34m(\u001b[0m\u001b[0mp1\u001b[0m\u001b[0;34m)\u001b[0m\u001b[0;34m\u001b[0m\u001b[0m\n\u001b[1;32m     38\u001b[0m \u001b[0;34m\u001b[0m\u001b[0m\n\u001b[0;32m---> 39\u001b[0;31m \u001b[0mwavefunc1\u001b[0m \u001b[0;34m=\u001b[0m \u001b[0mcxn\u001b[0m\u001b[0;34m.\u001b[0m\u001b[0mwavefunction\u001b[0m\u001b[0;34m(\u001b[0m\u001b[0mp1\u001b[0m\u001b[0;34m)\u001b[0m\u001b[0;34m\u001b[0m\u001b[0m\n\u001b[0m\u001b[1;32m     40\u001b[0m \u001b[0mprint\u001b[0m \u001b[0;34m(\u001b[0m\u001b[0mwavefunc1\u001b[0m\u001b[0;34m)\u001b[0m\u001b[0;34m\u001b[0m\u001b[0m\n\u001b[1;32m     41\u001b[0m \u001b[0mprint\u001b[0m \u001b[0;34m(\u001b[0m\u001b[0;34m\"*\"\u001b[0m \u001b[0;34m*\u001b[0m \u001b[0;36m30\u001b[0m\u001b[0;34m)\u001b[0m\u001b[0;34m\u001b[0m\u001b[0m\n",
      "\u001b[0;32m~/anaconda3/lib/python3.6/site-packages/pyquil/api/qvm.py\u001b[0m in \u001b[0;36mwavefunction\u001b[0;34m(self, quil_program, classical_addresses, needs_compilation, isa)\u001b[0m\n\u001b[1;32m    268\u001b[0m             \u001b[0mpayload\u001b[0m \u001b[0;34m=\u001b[0m \u001b[0mself\u001b[0m\u001b[0;34m.\u001b[0m\u001b[0m_wavefunction_payload\u001b[0m\u001b[0;34m(\u001b[0m\u001b[0mquil_program\u001b[0m\u001b[0;34m,\u001b[0m \u001b[0mclassical_addresses\u001b[0m\u001b[0;34m,\u001b[0m \u001b[0mneeds_compilation\u001b[0m\u001b[0;34m,\u001b[0m \u001b[0misa\u001b[0m\u001b[0;34m)\u001b[0m\u001b[0;34m\u001b[0m\u001b[0m\n\u001b[1;32m    269\u001b[0m             \u001b[0mresponse\u001b[0m \u001b[0;34m=\u001b[0m \u001b[0mpost_json\u001b[0m\u001b[0;34m(\u001b[0m\u001b[0mself\u001b[0m\u001b[0;34m.\u001b[0m\u001b[0msession\u001b[0m\u001b[0;34m,\u001b[0m \u001b[0mself\u001b[0m\u001b[0;34m.\u001b[0m\u001b[0msync_endpoint\u001b[0m \u001b[0;34m+\u001b[0m \u001b[0;34m\"/qvm\"\u001b[0m\u001b[0;34m,\u001b[0m \u001b[0mpayload\u001b[0m\u001b[0;34m)\u001b[0m\u001b[0;34m\u001b[0m\u001b[0m\n\u001b[0;32m--> 270\u001b[0;31m             \u001b[0;32mreturn\u001b[0m \u001b[0mWavefunction\u001b[0m\u001b[0;34m.\u001b[0m\u001b[0mfrom_bit_packed_string\u001b[0m\u001b[0;34m(\u001b[0m\u001b[0mresponse\u001b[0m\u001b[0;34m.\u001b[0m\u001b[0mcontent\u001b[0m\u001b[0;34m,\u001b[0m \u001b[0mclassical_addresses\u001b[0m\u001b[0;34m)\u001b[0m\u001b[0;34m\u001b[0m\u001b[0m\n\u001b[0m\u001b[1;32m    271\u001b[0m \u001b[0;34m\u001b[0m\u001b[0m\n\u001b[1;32m    272\u001b[0m     \u001b[0;32mdef\u001b[0m \u001b[0mwavefunction_async\u001b[0m\u001b[0;34m(\u001b[0m\u001b[0mself\u001b[0m\u001b[0;34m,\u001b[0m \u001b[0mquil_program\u001b[0m\u001b[0;34m,\u001b[0m \u001b[0mclassical_addresses\u001b[0m\u001b[0;34m=\u001b[0m\u001b[0;32mNone\u001b[0m\u001b[0;34m,\u001b[0m \u001b[0mneeds_compilation\u001b[0m\u001b[0;34m=\u001b[0m\u001b[0;32mFalse\u001b[0m\u001b[0;34m,\u001b[0m \u001b[0misa\u001b[0m\u001b[0;34m=\u001b[0m\u001b[0;32mNone\u001b[0m\u001b[0;34m)\u001b[0m\u001b[0;34m:\u001b[0m\u001b[0;34m\u001b[0m\u001b[0m\n",
      "\u001b[0;32m~/anaconda3/lib/python3.6/site-packages/pyquil/wavefunction.py\u001b[0m in \u001b[0;36mfrom_bit_packed_string\u001b[0;34m(coef_string, classical_addresses)\u001b[0m\n\u001b[1;32m     91\u001b[0m             \u001b[0mwf\u001b[0m\u001b[0;34m[\u001b[0m\u001b[0mi\u001b[0m\u001b[0;34m]\u001b[0m \u001b[0;34m=\u001b[0m \u001b[0mcomplex\u001b[0m\u001b[0;34m(\u001b[0m\u001b[0mre\u001b[0m\u001b[0;34m,\u001b[0m \u001b[0mim\u001b[0m\u001b[0;34m)\u001b[0m\u001b[0;34m\u001b[0m\u001b[0m\n\u001b[1;32m     92\u001b[0m \u001b[0;34m\u001b[0m\u001b[0m\n\u001b[0;32m---> 93\u001b[0;31m         \u001b[0;32mreturn\u001b[0m \u001b[0mWavefunction\u001b[0m\u001b[0;34m(\u001b[0m\u001b[0mwf\u001b[0m\u001b[0;34m,\u001b[0m \u001b[0mmem\u001b[0m\u001b[0;34m)\u001b[0m\u001b[0;34m\u001b[0m\u001b[0m\n\u001b[0m\u001b[1;32m     94\u001b[0m \u001b[0;34m\u001b[0m\u001b[0m\n\u001b[1;32m     95\u001b[0m     \u001b[0;32mdef\u001b[0m \u001b[0m__len__\u001b[0m\u001b[0;34m(\u001b[0m\u001b[0mself\u001b[0m\u001b[0;34m)\u001b[0m\u001b[0;34m:\u001b[0m\u001b[0;34m\u001b[0m\u001b[0m\n",
      "\u001b[0;32m~/anaconda3/lib/python3.6/site-packages/pyquil/wavefunction.py\u001b[0m in \u001b[0;36m__init__\u001b[0;34m(self, amplitude_vector, classical_memory)\u001b[0m\n\u001b[1;32m     39\u001b[0m         \u001b[0;32mif\u001b[0m \u001b[0;32mnot\u001b[0m \u001b[0mnp\u001b[0m\u001b[0;34m.\u001b[0m\u001b[0misclose\u001b[0m\u001b[0;34m(\u001b[0m\u001b[0msumprob\u001b[0m\u001b[0;34m,\u001b[0m \u001b[0;36m1.0\u001b[0m\u001b[0;34m)\u001b[0m\u001b[0;34m:\u001b[0m\u001b[0;34m\u001b[0m\u001b[0m\n\u001b[1;32m     40\u001b[0m             raise ValueError(\"The wavefunction is not normalized. \"\n\u001b[0;32m---> 41\u001b[0;31m                              \"The probabilities sum to {} instead of 1\".format(sumprob))\n\u001b[0m\u001b[1;32m     42\u001b[0m \u001b[0;34m\u001b[0m\u001b[0m\n\u001b[1;32m     43\u001b[0m         \u001b[0mself\u001b[0m\u001b[0;34m.\u001b[0m\u001b[0mclassical_memory\u001b[0m \u001b[0;34m=\u001b[0m \u001b[0mclassical_memory\u001b[0m\u001b[0;34m\u001b[0m\u001b[0m\n",
      "\u001b[0;31mValueError\u001b[0m: The wavefunction is not normalized. The probabilities sum to 0.4999999999999998 instead of 1"
     ]
    }
   ],
   "source": [
    "cxn = api.QVMConnection()\n",
    "\n",
    "# p1 = Program(I(2), I(1), X(0))\n",
    "# # p1.defgate(\"R2\", R_k(2))\n",
    "# # p1.defgate(\"R3\", R_k(3))\n",
    "# p1.inst(H(2))\n",
    "# # p1.inst((\"R2\", 1, 2))\n",
    "# p1.inst(CPHASE(2*np.pi/(2**2), 1, 2))\n",
    "# p1.inst(H(1))\n",
    "# # p1.inst((\"R3\", 0, 2))\n",
    "# p1.inst(CPHASE(2*np.pi/(2**3), 0, 2))\n",
    "# # p1.inst((\"R2\", 0, 1))\n",
    "# p1.inst(CPHASE(2*np.pi/(2**2), 0, 1))\n",
    "# p1.inst(H(0))\n",
    "# p1.inst(SWAP(0, 2))\n",
    "\n",
    "p1 = Program(I(2), I(1), X(0))\n",
    "\n",
    "p1.defgate(\"R2\", R_k(2))\n",
    "p1.defgate(\"R3\", R_k(3))\n",
    "\n",
    "p1.inst(H(2))\n",
    "# p1.inst(CPHASE(2*np.pi/(2**2), 1, 2))\n",
    "p1.inst((\"R2\", 2, 1))\n",
    "# p1.inst(CPHASE(2*np.pi/(2**3), 0, 2))\n",
    "p1.inst((\"R3\", 2, 0))\n",
    "p1.inst(H(1))\n",
    "\n",
    "# p1.inst(CPHASE(2*np.pi/(2**2), 1, 0))\n",
    "p1.defgate(\"R2_2\", R_k(2))\n",
    "p1.inst((\"R2_2\", 1, 0))\n",
    "# p1.inst((\"R2\", 1, 0))\n",
    "\n",
    "# p1.inst(H(0))\n",
    "# p1.inst(SWAP(0, 2))\n",
    "\n",
    "print (p1)\n",
    "\n",
    "wavefunc1 = cxn.wavefunction(p1)\n",
    "print (wavefunc1)\n",
    "print (\"*\" * 30)\n",
    "# print (np.allclose(wavefunc1.amplitudes, np.array([  3.53553391e-01+0.j        ,   2.50000000e-01+0.25j      ,\n",
    "#          2.16489014e-17+0.35355339j,  -2.50000000e-01+0.25j      ,\n",
    "#         -3.53553391e-01+0.j        ,  -2.50000000e-01-0.25j      ,\n",
    "#         -2.16489014e-17-0.35355339j,   2.50000000e-01-0.25j      ])))"
   ]
  },
  {
   "cell_type": "code",
   "execution_count": 52,
   "metadata": {},
   "outputs": [
    {
     "data": {
      "text/plain": [
       "array([[1.000000e+00+0.j, 0.000000e+00+0.j, 0.000000e+00+0.j,\n",
       "        0.000000e+00+0.j],\n",
       "       [0.000000e+00+0.j, 1.000000e+00+0.j, 0.000000e+00+0.j,\n",
       "        0.000000e+00+0.j],\n",
       "       [0.000000e+00+0.j, 0.000000e+00+0.j, 1.000000e+00+0.j,\n",
       "        0.000000e+00+0.j],\n",
       "       [0.000000e+00+0.j, 0.000000e+00+0.j, 0.000000e+00+0.j,\n",
       "        6.123234e-17+1.j]])"
      ]
     },
     "execution_count": 52,
     "metadata": {},
     "output_type": "execute_result"
    }
   ],
   "source": [
    "R_k(2)"
   ]
  },
  {
   "cell_type": "code",
   "execution_count": 44,
   "metadata": {},
   "outputs": [
    {
     "data": {
      "text/plain": [
       "4.756167681918555e-12"
      ]
     },
     "execution_count": 44,
     "metadata": {},
     "output_type": "execute_result"
    }
   ],
   "source": [
    "(0.3535533906**2) - (1/8.)"
   ]
  },
  {
   "cell_type": "code",
   "execution_count": null,
   "metadata": {},
   "outputs": [],
   "source": []
  },
  {
   "cell_type": "code",
   "execution_count": 9,
   "metadata": {},
   "outputs": [
    {
     "name": "stdout",
     "output_type": "stream",
     "text": [
      "(1+0j)|001>\n",
      "(1+0j)|001>\n"
     ]
    }
   ],
   "source": [
    "cxn = api.QVMConnection()\n",
    "\n",
    "p1 = Program(I(2), I(1), X(0))\n",
    "p1.defgate(\"R\", R_k(2))\n",
    "p1.inst((\"R\", 1, 2))\n",
    "wavefunc1 = cxn.wavefunction(p1)\n",
    "print (wavefunc1)\n",
    "\n",
    "p2 = Program(I(2), I(1), X(0))\n",
    "p2.inst(CPHASE((2*np.pi)/(2**2), 1, 2))\n",
    "wavefunc2 = cxn.wavefunction(p2)\n",
    "print (wavefunc2)"
   ]
  },
  {
   "cell_type": "code",
   "execution_count": null,
   "metadata": {},
   "outputs": [],
   "source": []
  },
  {
   "cell_type": "code",
   "execution_count": null,
   "metadata": {},
   "outputs": [],
   "source": []
  },
  {
   "cell_type": "code",
   "execution_count": null,
   "metadata": {},
   "outputs": [],
   "source": []
  },
  {
   "cell_type": "code",
   "execution_count": null,
   "metadata": {},
   "outputs": [],
   "source": []
  },
  {
   "cell_type": "code",
   "execution_count": null,
   "metadata": {},
   "outputs": [],
   "source": [
    "# list_qubits = [1, 1, 1]\n",
    "# qub_vec = [0 for _ in range(2**(len(list_qubits)))]\n",
    "qub_vec = [0 for _ in range(2**(len(list_qubs)))]\n",
    "lexicographic_index = 0\n",
    "for i, x in enumerate(list_qubits[::-1]):\n",
    "    lexicographic_index += x * (2**i)\n",
    "qub_vec[lexicographic_index] = 1\n",
    "        \n",
    "print (qub_vec)"
   ]
  },
  {
   "cell_type": "code",
   "execution_count": null,
   "metadata": {},
   "outputs": [],
   "source": [
    "from numpy.fft import ifft\n",
    "\n",
    "ifft(qub_vec, norm=\"ortho\")"
   ]
  },
  {
   "cell_type": "code",
   "execution_count": null,
   "metadata": {},
   "outputs": [],
   "source": []
  }
 ],
 "metadata": {
  "kernelspec": {
   "display_name": "Python 3",
   "language": "python",
   "name": "python3"
  },
  "language_info": {
   "codemirror_mode": {
    "name": "ipython",
    "version": 3
   },
   "file_extension": ".py",
   "mimetype": "text/x-python",
   "name": "python",
   "nbconvert_exporter": "python",
   "pygments_lexer": "ipython3",
   "version": "3.6.4"
  }
 },
 "nbformat": 4,
 "nbformat_minor": 2
}
