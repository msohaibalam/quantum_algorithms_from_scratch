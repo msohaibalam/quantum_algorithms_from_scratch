{
 "cells": [
  {
   "cell_type": "code",
   "execution_count": 1,
   "metadata": {},
   "outputs": [],
   "source": [
    "from pyquil.quil import Program\n",
    "from pyquil.gates import *\n",
    "import pyquil.api as api\n",
    "import numpy as np\n",
    "from numpy.fft import ifft   # to check that final answer is correct"
   ]
  },
  {
   "cell_type": "code",
   "execution_count": 2,
   "metadata": {},
   "outputs": [],
   "source": [
    "def state_prep(list_qubits, prog):\n",
    "    '''\n",
    "    Prepare the state corresponding to list of qubits, e.g. [1, 1, 0] -> |110>\n",
    "    \n",
    "    :param list list_qubits: list of qubits whose state is to be prepared\n",
    "    :return Program: Program preparing the required qubit state\n",
    "    '''\n",
    "    n = len(list_qubits)\n",
    "    for i, x in enumerate(list_qubits):\n",
    "        q = n - 1 - i\n",
    "        if x == 0:\n",
    "            prog.inst(I(q))\n",
    "        elif x == 1:\n",
    "            prog.inst(X(q))\n",
    "        else:\n",
    "            raise ValueError(\"Input must consts of (integers) 0s and 1s\")\n",
    "\n",
    "def qft(n, prog):\n",
    "    '''\n",
    "    Computes the Quantum Fourier Transform of an n-qubit state\n",
    "\n",
    "    :param int n: number of qubits\n",
    "    :return Program: Modified Program that would carry out quantum fourier transform of the input n-qubit state\n",
    "    '''\n",
    "    # create QFT circuit\n",
    "    q = n - 1\n",
    "    while q >= 0:\n",
    "        # apply Hadamard\n",
    "        prog.inst(H(q))\n",
    "        for i in range(2, q+2):\n",
    "            # apply controlled phase rotations\n",
    "            prog.inst(CPHASE(2*np.pi/(2**i), q, q-i+1))\n",
    "        # decrement qubit index\n",
    "        q -= 1\n",
    "    # SWAP the order of qubits\n",
    "    for j in range(n//2):\n",
    "        prog.inst(SWAP(j, n-1-j))"
   ]
  },
  {
   "cell_type": "code",
   "execution_count": 3,
   "metadata": {},
   "outputs": [],
   "source": [
    "# provide input n-qubit state (e.g. [1, 0, 1] for |110>)\n",
    "list_qubs = [1, 1, 0, 0, 1]"
   ]
  },
  {
   "cell_type": "code",
   "execution_count": 4,
   "metadata": {},
   "outputs": [
    {
     "name": "stdout",
     "output_type": "stream",
     "text": [
      "Fourier transform of the vector |11001> has coefficients:  [ 1.76776695e-01+0.j          3.44874224e-02-0.17337998j\n",
      " -1.63320371e-01-0.06764951j -9.82118698e-02+0.14698445j\n",
      "  1.25000000e-01+0.125j       1.46984450e-01-0.09821187j\n",
      " -6.76495125e-02-0.16332037j -1.73379981e-01+0.03448742j\n",
      "  1.08244507e-17+0.1767767j   1.73379981e-01+0.03448742j\n",
      "  6.76495125e-02-0.16332037j -1.46984450e-01-0.09821187j\n",
      " -1.25000000e-01+0.125j       9.82118698e-02+0.14698445j\n",
      "  1.63320371e-01-0.06764951j -3.44874224e-02-0.17337998j\n",
      " -1.76776695e-01+0.j         -3.44874224e-02+0.17337998j\n",
      "  1.63320371e-01+0.06764951j  9.82118698e-02-0.14698445j\n",
      " -1.25000000e-01-0.125j      -1.46984450e-01+0.09821187j\n",
      "  6.76495125e-02+0.16332037j  1.73379981e-01-0.03448742j\n",
      " -1.08244507e-17-0.1767767j  -1.73379981e-01-0.03448742j\n",
      " -6.76495125e-02+0.16332037j  1.46984450e-01+0.09821187j\n",
      "  1.25000000e-01-0.125j      -9.82118698e-02-0.14698445j\n",
      " -1.63320371e-01+0.06764951j  3.44874224e-02+0.17337998j]\n",
      "******************************\n",
      "Which matches the classical Fourier transform for the array:  [0, 0, 0, 0, 0, 0, 0, 0, 0, 0, 0, 0, 0, 0, 0, 0, 0, 0, 0, 0, 0, 0, 0, 0, 0, 1, 0, 0, 0, 0, 0, 0]\n"
     ]
    }
   ],
   "source": [
    "qvm = api.QVMConnection()\n",
    "\n",
    "# prepare Program\n",
    "p = Program()\n",
    "state_prep(list_qubs, p)\n",
    "qft(len(list_qubs), p)\n",
    "\n",
    "# obtain wavefunction\n",
    "wavefunc = qvm.wavefunction(p)\n",
    "# print (wavefunc.amplitudes)\n",
    "\n",
    "# check against FFT\n",
    "qub_vec = [0 for _ in range(2**(len(list_qubs)))]\n",
    "lexicographic_index = 0\n",
    "for i, x in enumerate(list_qubs[::-1]):\n",
    "    lexicographic_index += x * (2**i)\n",
    "qub_vec[lexicographic_index] = 1\n",
    "\n",
    "# display the amplitudes\n",
    "print (\"Fourier transform of the vector |\" + ''.join([str(i) for i in list_qubs]) + \"> has coefficients: \", wavefunc.amplitudes)\n",
    "print (\"*\" * 30)\n",
    "\n",
    "# demonstrate that this equals (inverse) FFT of corresponding vector\n",
    "if not (np.allclose(wavefunc.amplitudes, ifft(qub_vec, norm=\"ortho\"))):\n",
    "    raise AssertionError(\"BAD!\")\n",
    "else:\n",
    "    print (\"Which matches the classical Fourier transform for the array: \", qub_vec)"
   ]
  },
  {
   "cell_type": "code",
   "execution_count": null,
   "metadata": {},
   "outputs": [],
   "source": []
  }
 ],
 "metadata": {
  "kernelspec": {
   "display_name": "Python 3",
   "language": "python",
   "name": "python3"
  },
  "language_info": {
   "codemirror_mode": {
    "name": "ipython",
    "version": 3
   },
   "file_extension": ".py",
   "mimetype": "text/x-python",
   "name": "python",
   "nbconvert_exporter": "python",
   "pygments_lexer": "ipython3",
   "version": "3.6.4"
  }
 },
 "nbformat": 4,
 "nbformat_minor": 2
}
