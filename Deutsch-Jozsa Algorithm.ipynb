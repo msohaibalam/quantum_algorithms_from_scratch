{
 "cells": [
  {
   "cell_type": "code",
   "execution_count": 1,
   "metadata": {
    "collapsed": true
   },
   "outputs": [],
   "source": [
    "import itertools\n",
    "import numpy as np\n",
    "import pyquil.api as api\n",
    "from pyquil.gates import *\n",
    "from pyquil.quil import Program"
   ]
  },
  {
   "cell_type": "markdown",
   "metadata": {},
   "source": [
    "A function f:{0, 1}^n -> {0, 1} may be constant (equal to the same value for all its inputs), or balanced (equal to one value for exactly half of its inputs, and the other value for precisely the other half of its inputs)."
   ]
  },
  {
   "cell_type": "markdown",
   "metadata": {},
   "source": [
    "The black-box operator used in the Deutsch-Jozsa algorithm achieves the transformation <br>\n",
    "<br>\n",
    "$$U_{f(\\vec{x})} \\vert \\vec{x} \\rangle \\vert y \\rangle = \\vert \\vec{x} \\rangle \\vert y \\oplus f(\\vec{x}) \\rangle$$\n",
    "<br>\n",
    "which can be achieved by the following explicit form <br>\n",
    "<br>\n",
    "$$U_{f(\\vec{x})} = \\sum_{\\vec{x} = 0}^{2^{n} - 1} \\left\\vert \\vec{x} \\right\\rangle \\left\\langle \\vec{x} \\right\\vert \\otimes \\left[ I + f(\\vec{x}) [X - I]\\right]$$"
   ]
  },
  {
   "cell_type": "code",
   "execution_count": 2,
   "metadata": {},
   "outputs": [
    {
     "data": {
      "text/plain": [
       "['000', '001', '010', '011', '100', '101', '110', '111']"
      ]
     },
     "execution_count": 2,
     "metadata": {},
     "output_type": "execute_result"
    }
   ],
   "source": [
    "def qubit_strings(n):\n",
    "    qubit_strings = []\n",
    "    for q in itertools.product(['0', '1'], repeat=n):\n",
    "        qubit_strings.append(''.join(q))\n",
    "    return qubit_strings\n",
    "\n",
    "qubit_strings(3)"
   ]
  },
  {
   "cell_type": "code",
   "execution_count": 3,
   "metadata": {
    "collapsed": true
   },
   "outputs": [],
   "source": [
    "def black_box_map(n, balanced):\n",
    "    \"\"\"\n",
    "    Black-box map, f(x), on n qubits represented by the vector x\n",
    "    \"\"\"\n",
    "    qubs = qubit_strings(n)\n",
    "\n",
    "    # assign a constant value to all inputs if not balanced\n",
    "    if not balanced:\n",
    "        const_value = np.random.choice([0, 1])\n",
    "        d_blackbox = {q: const_value for q in qubs}\n",
    "\n",
    "    # assign 0 to half the inputs, and 1 to the other inputs if balanced\n",
    "    if balanced:\n",
    "        # randomly pick half the inputs\n",
    "        half_inputs = np.random.choice(qubs, size=int(len(qubs)/2), replace=False)\n",
    "        d_blackbox = {q_half: 0 for q_half in half_inputs}\n",
    "        d_blackbox_other_half = {q_other_half: 1 for q_other_half in set(qubs) - set(half_inputs)}\n",
    "        d_blackbox.update(d_blackbox_other_half)\n",
    "    \n",
    "    return d_blackbox"
   ]
  },
  {
   "cell_type": "code",
   "execution_count": 4,
   "metadata": {
    "collapsed": true
   },
   "outputs": [],
   "source": [
    "def qubit_ket(qub_string):\n",
    "    \"\"\"\n",
    "    Form a basis ket out of n-bit string specified by the input 'qub_string', e.g.\n",
    "    '001' -> |001>\n",
    "    \"\"\"\n",
    "    e0 = np.array([[1], [0]])\n",
    "    e1 = np.array([[0], [1]])\n",
    "    d_qubstring = {'0': e0, '1': e1}\n",
    "\n",
    "    # initialize ket\n",
    "    ket = d_qubstring[qub_string[0]]\n",
    "    for i in range(1, len(qub_string)):\n",
    "        ket = np.kron(ket, d_qubstring[qub_string[i]])\n",
    "    \n",
    "    return ket"
   ]
  },
  {
   "cell_type": "code",
   "execution_count": 5,
   "metadata": {
    "collapsed": true
   },
   "outputs": [],
   "source": [
    "def projection_op(qub_string):\n",
    "    \"\"\"\n",
    "    Creates a projection operator out of the basis element specified by 'qub_string', e.g.\n",
    "    '101' -> |101> <101|\n",
    "    \"\"\"\n",
    "    ket = qubit_ket(qub_string)\n",
    "    bra = np.transpose(ket)  # all entries real, so no complex conjugation necessary\n",
    "    proj = np.kron(ket, bra)\n",
    "    return proj"
   ]
  },
  {
   "cell_type": "code",
   "execution_count": 6,
   "metadata": {
    "collapsed": true
   },
   "outputs": [],
   "source": [
    "def black_box(n, balanced):\n",
    "    \"\"\"\n",
    "    Unitary representation of the black-box operator on (n+1)-qubits\n",
    "    \"\"\"\n",
    "    d_bb = black_box_map(n, balanced=balanced)\n",
    "    # initialize unitary matrix\n",
    "    N = 2**(n+1)\n",
    "    unitary_rep = np.zeros(shape=(N, N))\n",
    "    # populate unitary matrix\n",
    "    for k, v in d_bb.items():\n",
    "        unitary_rep += np.kron(projection_op(k), np.eye(2) + v*(-np.eye(2) + np.array([[0, 1], [1, 0]])))\n",
    "        \n",
    "    return unitary_rep"
   ]
  },
  {
   "cell_type": "markdown",
   "metadata": {},
   "source": [
    "### Deutsch-Jozsa Algorithm using (n+1) qubits"
   ]
  },
  {
   "cell_type": "code",
   "execution_count": 7,
   "metadata": {},
   "outputs": [
    {
     "name": "stdout",
     "output_type": "stream",
     "text": [
      "Function is constant\n"
     ]
    }
   ],
   "source": [
    "p = Program()\n",
    "\n",
    "# pick number of control qubits to be used\n",
    "n = 5\n",
    "\n",
    "# Define U_f\n",
    "p.defgate(\"U_f\", black_box(n, balanced=False))\n",
    "\n",
    "# Prepare the starting state |0>^(\\otimes n) x (1/sqrt[2])*(|0> - |1>)\n",
    "for n_ in range(1, n+1):\n",
    "    p.inst(I(n_))\n",
    "p.inst(X(0))\n",
    "p.inst(H(0))\n",
    "\n",
    "# Apply H^(\\otimes n)\n",
    "for n_ in range(1, n+1):\n",
    "    p.inst(H(n_))\n",
    "\n",
    "# Apply U_f\n",
    "p.inst((\"U_f\",) + tuple(range(n+1)[::-1]))\n",
    "\n",
    "# Apply final H^(\\otimes n)\n",
    "for n_ in range(1, n+1):\n",
    "    p.inst(H(n_))\n",
    "\n",
    "# Final measurement\n",
    "classical_regs = list(range(n))\n",
    "for i, n_ in enumerate(list(range(1, n+1))[::-1]):\n",
    "    p.measure(n_, classical_regs[i])\n",
    "\n",
    "qvm = api.QVMConnection()\n",
    "measure_n_qubits = qvm.run(p, classical_regs)\n",
    "\n",
    "# flatten out list\n",
    "measure_n_qubits = [item for sublist in measure_n_qubits for item in sublist]\n",
    "\n",
    "# Determine if function is balanced or not\n",
    "if set(measure_n_qubits) == set([0, 1]):\n",
    "    print (\"Function is balanced\")\n",
    "elif set(measure_n_qubits) == set([0]):\n",
    "    print (\"Function is constant\")"
   ]
  },
  {
   "cell_type": "code",
   "execution_count": null,
   "metadata": {
    "collapsed": true
   },
   "outputs": [],
   "source": []
  }
 ],
 "metadata": {
  "kernelspec": {
   "display_name": "Python 3",
   "language": "python",
   "name": "python3"
  },
  "language_info": {
   "codemirror_mode": {
    "name": "ipython",
    "version": 3
   },
   "file_extension": ".py",
   "mimetype": "text/x-python",
   "name": "python",
   "nbconvert_exporter": "python",
   "pygments_lexer": "ipython3",
   "version": "3.6.1"
  }
 },
 "nbformat": 4,
 "nbformat_minor": 2
}
