{
 "cells": [
  {
   "cell_type": "code",
   "execution_count": 1,
   "metadata": {},
   "outputs": [],
   "source": [
    "%matplotlib inline\n",
    "import matplotlib.pyplot as plt\n",
    "import itertools\n",
    "import numpy as np\n",
    "import pyquil.api as api\n",
    "from pyquil.gates import *\n",
    "from pyquil.quil import Program"
   ]
  },
  {
   "cell_type": "code",
   "execution_count": 2,
   "metadata": {},
   "outputs": [],
   "source": [
    "def qubit_strings(n):\n",
    "    qubit_strings = []\n",
    "    for q in itertools.product(['0', '1'], repeat=n):\n",
    "        qubit_strings.append(''.join(q))\n",
    "    return qubit_strings"
   ]
  },
  {
   "cell_type": "code",
   "execution_count": 3,
   "metadata": {},
   "outputs": [],
   "source": [
    "def black_box_map(n, q_find):\n",
    "    \"\"\"\n",
    "    Black-box map, f(x), on n qubits such that f(q_find) = 1, and otherwise = 0\n",
    "    \"\"\"\n",
    "    qubs = qubit_strings(n)\n",
    "    d_blackbox = {q: 1 if q == q_find else 0 for q in qubs}\n",
    "    return d_blackbox"
   ]
  },
  {
   "cell_type": "code",
   "execution_count": 4,
   "metadata": {},
   "outputs": [],
   "source": [
    "def qubit_ket(qub_string):\n",
    "    \"\"\"\n",
    "    Form a basis ket out of n-bit string specified by the input 'qub_string', e.g.\n",
    "    '001' -> |001>\n",
    "    \"\"\"\n",
    "    e0 = np.array([[1], [0]])\n",
    "    e1 = np.array([[0], [1]])\n",
    "    d_qubstring = {'0': e0, '1': e1}\n",
    "\n",
    "    # initialize ket\n",
    "    ket = d_qubstring[qub_string[0]]\n",
    "    for i in range(1, len(qub_string)):\n",
    "        ket = np.kron(ket, d_qubstring[qub_string[i]])\n",
    "    \n",
    "    return ket"
   ]
  },
  {
   "cell_type": "code",
   "execution_count": 5,
   "metadata": {},
   "outputs": [],
   "source": [
    "def projection_op(qub_string):\n",
    "    \"\"\"\n",
    "    Creates a projection operator out of the basis element specified by 'qub_string', e.g.\n",
    "    '101' -> |101> <101|\n",
    "    \"\"\"\n",
    "    ket = qubit_ket(qub_string)\n",
    "    bra = np.transpose(ket)  # all entries real, so no complex conjugation necessary\n",
    "    proj = np.kron(ket, bra)\n",
    "    return proj"
   ]
  },
  {
   "cell_type": "code",
   "execution_count": 6,
   "metadata": {},
   "outputs": [],
   "source": [
    "def black_box(n, q_find):\n",
    "    \"\"\"\n",
    "    Unitary representation of the black-box operator on (n+1)-qubits\n",
    "    \"\"\"\n",
    "    d_bb = black_box_map(n, q_find)\n",
    "    # initialize unitary matrix\n",
    "    N = 2**(n+1)\n",
    "    unitary_rep = np.zeros(shape=(N, N))\n",
    "    # populate unitary matrix\n",
    "    for k, v in d_bb.items():\n",
    "        unitary_rep += np.kron(projection_op(k), np.eye(2) + v*(-np.eye(2) + np.array([[0, 1], [1, 0]])))\n",
    "    return unitary_rep"
   ]
  },
  {
   "cell_type": "code",
   "execution_count": 7,
   "metadata": {},
   "outputs": [],
   "source": [
    "def U_grov(n):\n",
    "    \"\"\"\n",
    "    The operator 2|psi><psi| - I , where |psi> = H^n |0>\n",
    "    \"\"\"\n",
    "    qubs = qubit_strings(n)\n",
    "    N = 2**n\n",
    "    proj_psipsi = np.zeros(shape=(N, N))\n",
    "    for s_ket in qubs:\n",
    "        ket = qubit_ket(s_ket)\n",
    "        for s_bra in qubs:\n",
    "            bra = np.transpose(qubit_ket(s_bra))  # no complex conjugation required\n",
    "            proj_psipsi += np.kron(ket, bra)\n",
    "    # add normalization factor\n",
    "    proj_psipsi *= 1/N\n",
    "\n",
    "    return 2*proj_psipsi - np.eye(N)"
   ]
  },
  {
   "cell_type": "markdown",
   "metadata": {},
   "source": [
    "### Grover's Search Algorithm"
   ]
  },
  {
   "cell_type": "code",
   "execution_count": 8,
   "metadata": {},
   "outputs": [],
   "source": [
    "# Specify an item to find\n",
    "findme = '1011'"
   ]
  },
  {
   "cell_type": "code",
   "execution_count": 9,
   "metadata": {},
   "outputs": [
    {
     "name": "stdout",
     "output_type": "stream",
     "text": [
      "The most probable outcome is: |1011>\n"
     ]
    },
    {
     "data": {
      "image/png": "[encoded data removed]",
      "text/plain": [
       "<matplotlib.figure.Figure at 0x100e6fe48>"
      ]
     },
     "metadata": {},
     "output_type": "display_data"
    }
   ],
   "source": [
    "# number of qubits (excluding the ancilla)\n",
    "n = len(findme)\n",
    "# number of iterations\n",
    "num_iters = max(1, int(np.sqrt(2**(n-2))))\n",
    "\n",
    "p = Program()\n",
    "# define blackbox operator (see above)\n",
    "p.defgate(\"U_bb\", black_box(n, findme))\n",
    "# define the U_grov (see above)\n",
    "p.defgate(\"U_grov\", U_grov(n))\n",
    "# Apply equal superposition state\n",
    "for q in range(1, n+1):\n",
    "    p.inst(H(q))\n",
    "# Make 0th qubit an eigenstate of the black-box operator\n",
    "p.inst(H(0))\n",
    "p.inst(Z(0))\n",
    "    \n",
    "# Grover iterations\n",
    "for _ in range(num_iters):\n",
    "    # apply oracle\n",
    "    p.inst((\"U_bb\",) + tuple(range(n+1)[::-1]))\n",
    "    # apply H . U_perp . H\n",
    "    p.inst((\"U_grov\",) + tuple(range(1, n+1)[::-1]))\n",
    "    \n",
    "# measure and discard ancilla\n",
    "p.measure(0, [0])\n",
    "    \n",
    "# run program, and investigate wavefunction\n",
    "qvm = api.QVMConnection()\n",
    "wavefunc = qvm.wavefunction(p)\n",
    "outcome_probs = wavefunc.get_outcome_probs()\n",
    "print (\"The most probable outcome is: |%s>\" % (max(outcome_probs, key=outcome_probs.get)[:-1]))\n",
    "\n",
    "# histogram of outcome probs\n",
    "plt.figure(figsize=(8, 6))\n",
    "plt.bar([i[:-1] for i in outcome_probs.keys()], outcome_probs.values())\n",
    "plt.show()"
   ]
  }
 ],
 "metadata": {
  "kernelspec": {
   "display_name": "Python 3",
   "language": "python",
   "name": "python3"
  },
  "language_info": {
   "codemirror_mode": {
    "name": "ipython",
    "version": 3
   },
   "file_extension": ".py",
   "mimetype": "text/x-python",
   "name": "python",
   "nbconvert_exporter": "python",
   "pygments_lexer": "ipython3",
   "version": "3.6.4"
  }
 },
 "nbformat": 4,
 "nbformat_minor": 2
}
