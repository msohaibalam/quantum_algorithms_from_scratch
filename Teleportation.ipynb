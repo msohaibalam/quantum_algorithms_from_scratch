{
 "cells": [
  {
   "cell_type": "code",
   "execution_count": 1,
   "metadata": {
    "collapsed": true
   },
   "outputs": [],
   "source": [
    "from pyquil.quil import Program\n",
    "import pyquil.api as api\n",
    "from pyquil.gates import *\n",
    "import numpy as np"
   ]
  },
  {
   "cell_type": "markdown",
   "metadata": {},
   "source": [
    "Let's say we want to teleport some generic wavefunction"
   ]
  },
  {
   "cell_type": "code",
   "execution_count": 2,
   "metadata": {},
   "outputs": [
    {
     "name": "stdout",
     "output_type": "stream",
     "text": [
      "Original wavefunction:  (-0.6349874363-0.3380304578j)|0> + (0.5790772278+0.3836612172j)|1>\n",
      "Teleported wavefunction:  (-0.6349874363-0.3380304578j)|010> + (0.5790772278+0.3836612172j)|011>\n"
     ]
    }
   ],
   "source": [
    "quantum_simulator = api.QVMConnection()\n",
    "\n",
    "p = Program()\n",
    "\n",
    "# wavefunction to be teleported -- create some random wavefunction\n",
    "a = np.array([np.random.normal(0, 1) + np.random.normal(0, 1) * 1j for _ in range(4)]).reshape(2, 2)\n",
    "q, _ = np.linalg.qr(a)\n",
    "p.defgate(\"RandomUnitary\", q)\n",
    "p.inst((\"RandomUnitary\", 2))\n",
    "\n",
    "wavefunc_orig = quantum_simulator.wavefunction(p)\n",
    "print (\"Original wavefunction: \", wavefunc_orig)\n",
    "\n",
    "# Create Bell state\n",
    "p.inst(H(1))\n",
    "p.inst(CNOT(1, 0))\n",
    "\n",
    "# Alice measures in the Bell basis\n",
    "p.inst(CNOT(2, 1))\n",
    "p.inst(H(2))\n",
    "\n",
    "alice_regs = [0, 1]\n",
    "\n",
    "p.measure(1, alice_regs[1]).if_then(alice_regs[1], Program(X(0)), Program(I(0)))\n",
    "p.measure(2, alice_regs[0]).if_then(alice_regs[0], Program(Z(0)), Program(I(0)))\n",
    "\n",
    "# teleported wavefunction\n",
    "wavefunc = quantum_simulator.wavefunction(p)\n",
    "print (\"Teleported wavefunction: \", wavefunc)"
   ]
  },
  {
   "cell_type": "markdown",
   "metadata": {},
   "source": [
    "Bob has the very last (the right-most) qubit in his possession, so he has successfully recreated the original wavefunction, based on the two classical bits that Alice sent him."
   ]
  }
 ],
 "metadata": {
  "kernelspec": {
   "display_name": "Python 3",
   "language": "python",
   "name": "python3"
  },
  "language_info": {
   "codemirror_mode": {
    "name": "ipython",
    "version": 3
   },
   "file_extension": ".py",
   "mimetype": "text/x-python",
   "name": "python",
   "nbconvert_exporter": "python",
   "pygments_lexer": "ipython3",
   "version": "3.6.1"
  }
 },
 "nbformat": 4,
 "nbformat_minor": 2
}
